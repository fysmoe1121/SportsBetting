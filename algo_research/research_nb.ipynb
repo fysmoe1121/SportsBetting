{
 "cells": [
  {
   "cell_type": "code",
   "execution_count": 247,
   "metadata": {},
   "outputs": [],
   "source": [
    "import numpy as np\n",
    "import matplotlib.pyplot as plt\n",
    "from scipy.stats import binom\n",
    "from scipy.optimize import brentq\n",
    "from scipy.stats import rv_discrete"
   ]
  },
  {
   "cell_type": "code",
   "execution_count": 248,
   "metadata": {},
   "outputs": [],
   "source": [
    "def convert_odds_to_prob(type, odds):\n",
    "    if type == \"american\":\n",
    "        if odds < 0:\n",
    "            return (-odds / (-odds + 100)) * 100\n",
    "        else:\n",
    "            return (100 / (odds + 100)) * 100\n",
    "\n",
    "def no_vig_odds(team_a, team_b):\n",
    "    prob_a = convert_odds_to_prob(\"american\", team_a)\n",
    "    prob_b = convert_odds_to_prob(\"american\", team_b)\n",
    "    total = prob_a + prob_b\n",
    "    return prob_a/total * 100, prob_b/total * 100, total-100\n"
   ]
  },
  {
   "cell_type": "markdown",
   "metadata": {},
   "source": []
  },
  {
   "cell_type": "code",
   "execution_count": 249,
   "metadata": {},
   "outputs": [
    {
     "name": "stdout",
     "output_type": "stream",
     "text": [
      "(35.58883342577187, 64.41116657422813, 4.845900368288426)\n"
     ]
    }
   ],
   "source": [
    "print(no_vig_odds(168,-208))\n"
   ]
  },
  {
   "cell_type": "code",
   "execution_count": 357,
   "metadata": {},
   "outputs": [],
   "source": [
    "def prob_outcome(differential, p):\n",
    "    #assuming that A vs B and the differential is score A - score B with team A having winning probability p.\n",
    "    if differential == 0:\n",
    "       return 0\n",
    "    elif differential == 1 or differential == -1:\n",
    "        return (binom.pmf(k = 12, n = 24, p = 1-p)) / 2\n",
    "    elif 0 < differential <= 13:\n",
    "        return binom.pmf(k = 13 - differential, n= 2*13 - differential - 1, p=1-p) * p\n",
    "    elif -13 <= differential < 0:\n",
    "        return binom.pmf(k  = 13 + differential, n = 2*13 + differential - 1, p=p) * (1-p)\n",
    "    else:\n",
    "        return 0\n",
    "#11-13"
   ]
  },
  {
   "cell_type": "code",
   "execution_count": 376,
   "metadata": {},
   "outputs": [],
   "source": [
    "class round_diff_distro(rv_discrete):\n",
    "    def set_p(self, p):\n",
    "        self.p = p\n",
    "\n",
    "    def _pmf(self, x):\n",
    "        x_arr = np.asarray(x)\n",
    "        flag = isinstance(x, np.ndarray) or isinstance(x, list)\n",
    "        pmf_output = np.array([prob_outcome(k, self.p) for k in x_arr])\n",
    "        return pmf_output if flag else pmf_output.item()\n",
    "    \n",
    "    def pmf_dict(self):\n",
    "        return {k: prob_outcome(k, self.p) for k in range(-13,14)}"
   ]
  },
  {
   "cell_type": "code",
   "execution_count": 370,
   "metadata": {},
   "outputs": [
    {
     "data": {
      "text/plain": [
       "0.0007934570312500008"
      ]
     },
     "execution_count": 370,
     "metadata": {},
     "output_type": "execute_result"
    }
   ],
   "source": [
    "dict = {k :prob_outcome(k, 0.5) for k in range(-13,14)}\n",
    "dict.get(-12,0)"
   ]
  },
  {
   "cell_type": "code",
   "execution_count": 503,
   "metadata": {},
   "outputs": [
    {
     "name": "stdout",
     "output_type": "stream",
     "text": [
      "[-13, -12, -11, -10, -9, -8, -7, -6, -5, -4, -3, -2, -1, 0, 1, 2, 3, 4, 5, 6, 7, 8, 9, 10, 11, 12, 13]\n"
     ]
    },
    {
     "data": {
      "text/plain": [
       "array([6.71088640e-06, 5.23449139e-05, 2.19848638e-04, 6.59545915e-04,\n",
       "       1.58291020e-03, 3.22913680e-03, 5.81244624e-03, 9.46598388e-03,\n",
       "       1.41989758e-02, 1.98785662e-02, 2.62397073e-02, 3.29189055e-02,\n",
       "       4.93783583e-02, 0.00000000e+00, 4.93783583e-02, 7.40675375e-02,\n",
       "       8.85590122e-02, 1.00635241e-01, 1.07823473e-01, 1.07823473e-01,\n",
       "       9.93110932e-02, 8.27592444e-02, 6.08523856e-02, 3.80327410e-02,\n",
       "       1.90163705e-02, 6.79156089e-03, 1.30606940e-03])"
      ]
     },
     "execution_count": 503,
     "metadata": {},
     "output_type": "execute_result"
    }
   ],
   "source": [
    "diff_dist = round_diff_distro(a = -13, b = 13, name=\"game\")\n",
    "diff_dist.set_p(0.6)\n",
    "outcomes = list(range(-13,14))\n",
    "print(outcomes)\n",
    "diff_dist.pmf(outcomes)"
   ]
  },
  {
   "cell_type": "code",
   "execution_count": 378,
   "metadata": {},
   "outputs": [
    {
     "data": {
      "text/plain": [
       "{-13: 6.710886399999996e-06,\n",
       " -12: 5.2344913919999994e-05,\n",
       " -11: 0.0002198486384640004,\n",
       " -10: 0.0006595459153920011,\n",
       " -9: 0.0015829101969407997,\n",
       " -8: 0.0032291368017592324,\n",
       " -7: 0.005812446243166618,\n",
       " -6: 0.009465983881728465,\n",
       " -5: 0.014198975822592714,\n",
       " -4: 0.019878566151629834,\n",
       " -3: 0.02623970732015135,\n",
       " -2: 0.03291890554709898,\n",
       " -1: 0.04937835832064849,\n",
       " 0: 0,\n",
       " 1: 0.04937835832064849,\n",
       " 2: 0.07406753748097274,\n",
       " 3: 0.08855901220551089,\n",
       " 4: 0.10063524114262612,\n",
       " 5: 0.10782347265281379,\n",
       " 6: 0.10782347265281356,\n",
       " 7: 0.09931109323285464,\n",
       " 8: 0.08275924436071218,\n",
       " 9: 0.06085238555934726,\n",
       " 10: 0.038032740974591965,\n",
       " 11: 0.019016370487296017,\n",
       " 12: 0.006791560888319997,\n",
       " 13: 0.0013060694015999915}"
      ]
     },
     "execution_count": 378,
     "metadata": {},
     "output_type": "execute_result"
    }
   ],
   "source": [
    "dist.pmf_dict()"
   ]
  },
  {
   "cell_type": "code",
   "execution_count": 372,
   "metadata": {},
   "outputs": [
    {
     "name": "stdout",
     "output_type": "stream",
     "text": [
      "0.06006717681884772\n"
     ]
    }
   ],
   "source": [
    "print(prob_outcome(-5, 0.5))"
   ]
  },
  {
   "cell_type": "code",
   "execution_count": 466,
   "metadata": {},
   "outputs": [],
   "source": [
    "def plot_round_diff_distro(p):\n",
    "    distro = round_diff_distro(a = -13, b = 13, name=\"game\")\n",
    "    distro.set_p(p)\n",
    "    plt.bar(distro.pmf_dict().keys(), distro.pmf_dict().values())\n",
    "    return distro.pmf_dict().values()\n",
    "\n"
   ]
  },
  {
   "cell_type": "code",
   "execution_count": 646,
   "metadata": {},
   "outputs": [],
   "source": [
    "class total_round_distro(rv_discrete):\n",
    "    def set_p(self, p):\n",
    "        self.p = p\n",
    "\n",
    "    def _pmf(self, x):\n",
    "        #support from 13 to 25\n",
    "        x_arr = np.asarray(x)\n",
    "        pmf_output = [prob_outcome(26 - tot, self.p) + prob_outcome(tot - 26, self.p) for tot in x_arr]\n",
    "        #print(pmf_output)\n",
    "        flag = isinstance(x, np.ndarray) or isinstance(x, list)\n",
    "        return pmf_output if flag else pmf_output.item()\n",
    "    \n"
   ]
  },
  {
   "cell_type": "code",
   "execution_count": 647,
   "metadata": {},
   "outputs": [],
   "source": [
    "def plot_total_round_distro(p):\n",
    "    total_dist = total_round_distro(a = 13, b = 24, name=\"total\")\n",
    "    total_dist.set_p(p)\n",
    "    support = list(range(13,25))\n",
    "    plt.bar(support, total_dist.pmf(support))\n",
    "    return total_dist.pmf(support)"
   ]
  },
  {
   "cell_type": "code",
   "execution_count": 648,
   "metadata": {},
   "outputs": [
    {
     "data": {
      "text/plain": [
       "array([0.00131278, 0.00684391, 0.01923622, 0.03869229, 0.0624353 ,\n",
       "       0.08598838, 0.10512354, 0.11728946, 0.12202245, 0.12051381,\n",
       "       0.11479872, 0.10698644])"
      ]
     },
     "execution_count": 648,
     "metadata": {},
     "output_type": "execute_result"
    }
   ],
   "source": [
    "total_dist = total_round_distro(a = 13, b = 24, name=\"total\")\n",
    "total_dist.set_p(0.6)\n",
    "support = list(range(13,25))\n",
    "\n",
    "\n",
    "total_dist.pmf(support)"
   ]
  },
  {
   "cell_type": "code",
   "execution_count": 649,
   "metadata": {},
   "outputs": [
    {
     "data": {
      "text/plain": [
       "0.9012432833587032"
      ]
     },
     "execution_count": 649,
     "metadata": {},
     "output_type": "execute_result"
    }
   ],
   "source": [
    "np.sum(total_dist.pmf(support))"
   ]
  },
  {
   "cell_type": "code",
   "execution_count": 650,
   "metadata": {},
   "outputs": [
    {
     "name": "stdout",
     "output_type": "stream",
     "text": [
      "13 -13 0.00013194222567483583 0.0001128841724501795\n",
      "12 -12 0.0008524787200851159 0.0007381496036517254\n",
      "11 -11 0.0029657734671761165 0.002599024754457724\n",
      "10 -10 0.007369947065932659 0.006536547257461155\n",
      "9 -9 0.014651454767074116 0.013151533082011856\n",
      "8 -8 0.02475802826540187 0.022491751876856737\n",
      "7 -7 0.03691422014371412 0.03394005358217681\n",
      "6 -6 0.04979728297387039 0.04633787029783765\n",
      "5 -5 0.06187312409503391 0.0582698718995308\n",
      "4 -4 0.0717521995755409 0.06838940631941605\n",
      "3 -3 0.07845385501589652 0.07567971703306574\n",
      "2 -2 0.08152781969879205 0.07959442239595785\n",
      "1 -1 0.08055532085546661 0.08055532085546661\n"
     ]
    }
   ],
   "source": [
    "dist.set_p(0.503)\n",
    "d = dist.pmf_dict()\n",
    "for v in range(13,26):\n",
    "    print(26-v, v-26, d[26 - v], d[v - 26])\n",
    "   "
   ]
  },
  {
   "cell_type": "code",
   "execution_count": 651,
   "metadata": {},
   "outputs": [
    {
     "data": {
      "text/plain": [
       "dict_values([6.710886399999996e-06, 5.2344913919999994e-05, 0.0002198486384640004, 0.0006595459153920011, 0.0015829101969407997, 0.0032291368017592324, 0.005812446243166618, 0.009465983881728465, 0.014198975822592714, 0.019878566151629834, 0.02623970732015135, 0.03291890554709898, 0.04937835832064849, 0, 0.04937835832064849, 0.07406753748097274, 0.08855901220551089, 0.10063524114262612, 0.10782347265281379, 0.10782347265281356, 0.09931109323285464, 0.08275924436071218, 0.06085238555934726, 0.038032740974591965, 0.019016370487296017, 0.006791560888319997, 0.0013060694015999915])"
      ]
     },
     "execution_count": 651,
     "metadata": {},
     "output_type": "execute_result"
    },
    {
     "data": {
      "image/png": "[encoded data removed]",
      "text/plain": [
       "<Figure size 640x480 with 1 Axes>"
      ]
     },
     "metadata": {},
     "output_type": "display_data"
    }
   ],
   "source": [
    "plot_round_diff_distro(0.6)"
   ]
  },
  {
   "cell_type": "code",
   "execution_count": 652,
   "metadata": {},
   "outputs": [
    {
     "data": {
      "text/plain": [
       "array([0.00131278, 0.00684391, 0.01923622, 0.03869229, 0.0624353 ,\n",
       "       0.08598838, 0.10512354, 0.11728946, 0.12202245, 0.12051381,\n",
       "       0.11479872, 0.10698644])"
      ]
     },
     "execution_count": 652,
     "metadata": {},
     "output_type": "execute_result"
    },
    {
     "data": {
      "image/png": "[encoded data removed]",
      "text/plain": [
       "<Figure size 640x480 with 1 Axes>"
      ]
     },
     "metadata": {},
     "output_type": "display_data"
    }
   ],
   "source": [
    "plot_total_round_distro(0.6)"
   ]
  },
  {
   "cell_type": "code",
   "execution_count": 653,
   "metadata": {},
   "outputs": [
    {
     "data": {
      "text/plain": [
       "[<matplotlib.lines.Line2D at 0x285550ed0>]"
      ]
     },
     "execution_count": 653,
     "metadata": {},
     "output_type": "execute_result"
    },
    {
     "data": {
      "image/png": "[encoded data removed]",
      "text/plain": [
       "<Figure size 640x480 with 1 Axes>"
      ]
     },
     "metadata": {},
     "output_type": "display_data"
    }
   ],
   "source": [
    "plt.plot(support, total_dist.pmf(support))"
   ]
  },
  {
   "cell_type": "code",
   "execution_count": 654,
   "metadata": {},
   "outputs": [
    {
     "data": {
      "text/plain": [
       "6"
      ]
     },
     "execution_count": 654,
     "metadata": {},
     "output_type": "execute_result"
    }
   ],
   "source": [
    "def f(total):\n",
    "    return (26 - total)\n",
    "\n",
    "f(20)"
   ]
  },
  {
   "cell_type": "code",
   "execution_count": 655,
   "metadata": {},
   "outputs": [
    {
     "data": {
      "image/png": "[encoded data removed]",
      "text/plain": [
       "<Figure size 640x480 with 1 Axes>"
      ]
     },
     "metadata": {},
     "output_type": "display_data"
    }
   ],
   "source": [
    "plot_distro(0.6)"
   ]
  },
  {
   "cell_type": "code",
   "execution_count": 656,
   "metadata": {},
   "outputs": [
    {
     "data": {
      "text/plain": [
       "1.0"
      ]
     },
     "execution_count": 656,
     "metadata": {},
     "output_type": "execute_result"
    }
   ],
   "source": [
    "np.sum(distro)"
   ]
  },
  {
   "cell_type": "code",
   "execution_count": 657,
   "metadata": {},
   "outputs": [
    {
     "name": "stdout",
     "output_type": "stream",
     "text": [
      "12\n",
      "12\n"
     ]
    }
   ],
   "source": [
    "sz = len(distro)\n",
    "print(distro[:12].size)\n",
    "print(distro[15:].size)"
   ]
  },
  {
   "cell_type": "code",
   "execution_count": 658,
   "metadata": {},
   "outputs": [
    {
     "name": "stdout",
     "output_type": "stream",
     "text": [
      "[0.00131278 0.00135841 0.00152592 0.00196562 0.00288898 0.00453521\n",
      " 0.00711852 0.01077205 0.01550505 0.02118464 0.02754578 0.03422497]\n",
      "13\n"
     ]
    }
   ],
   "source": [
    "distro[15:]\n",
    "total = (distro[:12] + distro[15:][-1])\n",
    "print(total)\n",
    "total = np.insert(total, total.size, distro[13])\n",
    "print(total.size)"
   ]
  },
  {
   "cell_type": "markdown",
   "metadata": {},
   "source": []
  },
  {
   "cell_type": "code",
   "execution_count": 659,
   "metadata": {},
   "outputs": [
    {
     "data": {
      "text/plain": [
       "[<matplotlib.lines.Line2D at 0x2854f6110>]"
      ]
     },
     "execution_count": 659,
     "metadata": {},
     "output_type": "execute_result"
    },
    {
     "data": {
      "image/png": "[encoded data removed]",
      "text/plain": [
       "<Figure size 640x480 with 1 Axes>"
      ]
     },
     "metadata": {},
     "output_type": "display_data"
    }
   ],
   "source": [
    "plt.plot(total)"
   ]
  },
  {
   "cell_type": "code",
   "execution_count": 660,
   "metadata": {},
   "outputs": [
    {
     "data": {
      "text/plain": [
       "[24, 23, 22, 21, 20, 19, 18, 17, 16, 15, 14, 13]"
      ]
     },
     "execution_count": 660,
     "metadata": {},
     "output_type": "execute_result"
    }
   ],
   "source": [
    "list(range(24, 12,-1))"
   ]
  },
  {
   "cell_type": "code",
   "execution_count": 661,
   "metadata": {},
   "outputs": [],
   "source": [
    "def prob_winning(p):\n",
    "    distro = np.array([prob_outcome(s, p) for s in range(-13,14)])\n",
    "    return np.sum(distro[14:])"
   ]
  },
  {
   "cell_type": "code",
   "execution_count": 662,
   "metadata": {},
   "outputs": [],
   "source": [
    "def prob_losing(p):\n",
    "    distro = np.array([prob_outcome(s, p) for s in range(-13,14)])\n",
    "    return np.sum(distro[:13])"
   ]
  },
  {
   "cell_type": "code",
   "execution_count": 663,
   "metadata": {},
   "outputs": [
    {
     "data": {
      "text/plain": [
       "1.0000000000000004"
      ]
     },
     "execution_count": 663,
     "metadata": {},
     "output_type": "execute_result"
    }
   ],
   "source": [
    "prob_winning(0.58614)+prob_losing(0.58614)"
   ]
  },
  {
   "cell_type": "code",
   "execution_count": null,
   "metadata": {},
   "outputs": [],
   "source": []
  },
  {
   "cell_type": "code",
   "execution_count": 664,
   "metadata": {},
   "outputs": [
    {
     "name": "stdout",
     "output_type": "stream",
     "text": [
      "The solution for p is approximately: 0.5861447126222543\n"
     ]
    }
   ],
   "source": [
    "def objective(p):\n",
    "    return prob_winning(p) - 0.8\n",
    "\n",
    "# Solving for p using the Brent method\n",
    "p_solution = brentq(objective, 0, 1)  # p is a probability, so it ranges from 0 to 1\n",
    "print(f\"The solution for p is approximately: {p_solution}\")"
   ]
  },
  {
   "cell_type": "code",
   "execution_count": 665,
   "metadata": {},
   "outputs": [],
   "source": [
    "def solve_p(q):\n",
    "    def objective(p):\n",
    "        return prob_winning(p) - q\n",
    "    p_solution = brentq(objective, 0, 1)\n",
    "    return p_solution\n"
   ]
  },
  {
   "cell_type": "code",
   "execution_count": 666,
   "metadata": {},
   "outputs": [
    {
     "data": {
      "text/plain": [
       "0.8000000000000002"
      ]
     },
     "execution_count": 666,
     "metadata": {},
     "output_type": "execute_result"
    }
   ],
   "source": [
    "prob_winning(p_solution)"
   ]
  },
  {
   "cell_type": "code",
   "execution_count": 667,
   "metadata": {},
   "outputs": [
    {
     "data": {
      "text/plain": [
       "0.5539233189114676"
      ]
     },
     "execution_count": 667,
     "metadata": {},
     "output_type": "execute_result"
    }
   ],
   "source": [
    "solve_p(0.7)"
   ]
  },
  {
   "cell_type": "code",
   "execution_count": 668,
   "metadata": {},
   "outputs": [],
   "source": [
    "def main(odds1, odds2):\n",
    "    r, s, vig = no_vig_odds(odds1, odds2)\n",
    "    q = max(r, s) * 0.01\n",
    "    p_sol = solve_p(q)\n",
    "    plot_round_diff_distro(p_sol)\n",
    "    plot_total_round_distro(p_sol)\n",
    "    diff_dist.set_p(p_sol)\n",
    "    total_dist.set_p(p_sol)\n",
    "    return r,s,vig, p_sol, diff_dist.mean(), diff_dist.median(), total_dist.mean(), total_dist.median()"
   ]
  },
  {
   "cell_type": "code",
   "execution_count": 669,
   "metadata": {},
   "outputs": [
    {
     "data": {
      "text/plain": [
       "(47.73218142548596,\n",
       " 52.26781857451404,\n",
       " 4.7511312217194615,\n",
       " 0.5058654903750249,\n",
       " 0.25579867310004545,\n",
       " 1.0,\n",
       " 17.943452448875345,\n",
       " 22.0)"
      ]
     },
     "execution_count": 669,
     "metadata": {},
     "output_type": "execute_result"
    },
    {
     "data": {
      "image/png": "[encoded data removed]",
      "text/plain": [
       "<Figure size 640x480 with 1 Axes>"
      ]
     },
     "metadata": {},
     "output_type": "display_data"
    }
   ],
   "source": [
    "main(100, -121)"
   ]
  },
  {
   "cell_type": "markdown",
   "metadata": {},
   "source": []
  },
  {
   "cell_type": "code",
   "execution_count": 670,
   "metadata": {},
   "outputs": [
    {
     "data": {
      "text/plain": [
       "(40.75583549462764,\n",
       " 59.24416450537237,\n",
       " 4.85625485625485,\n",
       " 0.524100963246073,\n",
       " 1.0480779657495605,\n",
       " 2.0,\n",
       " 17.981646491335173,\n",
       " 22.0)"
      ]
     },
     "execution_count": 670,
     "metadata": {},
     "output_type": "execute_result"
    },
    {
     "data": {
      "image/png": "[encoded data removed]",
      "text/plain": [
       "<Figure size 640x480 with 1 Axes>"
      ]
     },
     "metadata": {},
     "output_type": "display_data"
    }
   ],
   "source": [
    "main(134, -164)"
   ]
  },
  {
   "cell_type": "code",
   "execution_count": 671,
   "metadata": {},
   "outputs": [
    {
     "name": "stdout",
     "output_type": "stream",
     "text": [
      "40.75583549462764 59.24416450537237 4.85625485625485 0.524100963246073\n"
     ]
    }
   ],
   "source": [
    "print(a,b,c,p_test)"
   ]
  },
  {
   "cell_type": "code",
   "execution_count": 672,
   "metadata": {},
   "outputs": [
    {
     "data": {
      "text/plain": [
       "dict_values([6.422331740136466e-05, 0.00043757353266787565, 0.0016053289697355484, 0.004206772296826123, 0.008819093651693876, 0.015715124624554287, 0.02470893585978289, 0.03514993780186513, 0.046055290649992635, 0.05632111844855774, 0.06493949534596764, 0.07116378158739237, 0.07837167885983887, 0, 0.07837167885983887, 0.08630963546768425, 0.08673798037539525, 0.08284604857579266, 0.07460710496874622, 0.0627083471129808, 0.04854616939285122, 0.03400312926594756, 0.021014794315519267, 0.0110395234558887, 0.0046394392941782395, 0.0013926841427253482, 0.00022510982617475798])"
      ]
     },
     "execution_count": 672,
     "metadata": {},
     "output_type": "execute_result"
    },
    {
     "data": {
      "image/png": "[encoded data removed]",
      "text/plain": [
       "<Figure size 640x480 with 1 Axes>"
      ]
     },
     "metadata": {},
     "output_type": "display_data"
    }
   ],
   "source": [
    "plot_round_diff_distro(p_test)"
   ]
  },
  {
   "cell_type": "code",
   "execution_count": 673,
   "metadata": {},
   "outputs": [
    {
     "data": {
      "text/plain": [
       "array([0.00028933, 0.00183026, 0.00624477, 0.0152463 , 0.02983389,\n",
       "       0.04971825, 0.07325511, 0.09785828, 0.1206624 , 0.13916717,\n",
       "       0.15167748, 0.15747342])"
      ]
     },
     "execution_count": 673,
     "metadata": {},
     "output_type": "execute_result"
    },
    {
     "data": {
      "image/png": "[encoded data removed]",
      "text/plain": [
       "<Figure size 640x480 with 1 Axes>"
      ]
     },
     "metadata": {},
     "output_type": "display_data"
    }
   ],
   "source": [
    "plot_total_round_distro(p_test)"
   ]
  },
  {
   "cell_type": "code",
   "execution_count": 674,
   "metadata": {},
   "outputs": [
    {
     "data": {
      "text/plain": [
       "2.0"
      ]
     },
     "execution_count": 674,
     "metadata": {},
     "output_type": "execute_result"
    }
   ],
   "source": [
    "diff_dist.set_p(p_test)\n",
    "diff_dist.mean()\n",
    "diff_dist.median()"
   ]
  },
  {
   "cell_type": "code",
   "execution_count": 675,
   "metadata": {},
   "outputs": [
    {
     "data": {
      "text/plain": [
       "17.981646491335173"
      ]
     },
     "execution_count": 675,
     "metadata": {},
     "output_type": "execute_result"
    }
   ],
   "source": [
    "total_dist.set_p(p_test)\n",
    "total_dist.mean()"
   ]
  },
  {
   "cell_type": "code",
   "execution_count": 580,
   "metadata": {},
   "outputs": [
    {
     "data": {
      "text/plain": [
       "22.0"
      ]
     },
     "execution_count": 580,
     "metadata": {},
     "output_type": "execute_result"
    }
   ],
   "source": [
    "total_dist.median()"
   ]
  },
  {
   "cell_type": "code",
   "execution_count": null,
   "metadata": {},
   "outputs": [],
   "source": []
  },
  {
   "cell_type": "code",
   "execution_count": null,
   "metadata": {},
   "outputs": [],
   "source": []
  }
 ],
 "metadata": {
  "kernelspec": {
   "display_name": "base",
   "language": "python",
   "name": "python3"
  },
  "language_info": {
   "codemirror_mode": {
    "name": "ipython",
    "version": 3
   },
   "file_extension": ".py",
   "mimetype": "text/x-python",
   "name": "python",
   "nbconvert_exporter": "python",
   "pygments_lexer": "ipython3",
   "version": "3.11.8"
  }
 },
 "nbformat": 4,
 "nbformat_minor": 2
}
