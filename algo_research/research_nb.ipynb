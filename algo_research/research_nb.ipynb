{
 "cells": [
  {
   "cell_type": "code",
   "execution_count": 1,
   "metadata": {},
   "outputs": [],
   "source": [
    "import numpy as np\n",
    "import matplotlib.pyplot as plt\n",
    "from scipy.stats import binom\n",
    "from scipy.optimize import brentq\n",
    "from scipy.stats import rv_discrete"
   ]
  },
  {
   "cell_type": "code",
   "execution_count": 2,
   "metadata": {},
   "outputs": [],
   "source": [
    "def convert_odds_to_prob(type, odds):\n",
    "    if type == \"american\":\n",
    "        if odds < 0:\n",
    "            return (-odds / (-odds + 100)) * 100\n",
    "        else:\n",
    "            return (100 / (odds + 100)) * 100\n",
    "\n",
    "def no_vig_odds(team_a, team_b):\n",
    "    prob_a = convert_odds_to_prob(\"american\", team_a)\n",
    "    prob_b = convert_odds_to_prob(\"american\", team_b)\n",
    "    total = prob_a + prob_b\n",
    "    return prob_a/total * 100, prob_b/total * 100, total-100\n"
   ]
  },
  {
   "cell_type": "markdown",
   "metadata": {},
   "source": []
  },
  {
   "cell_type": "code",
   "execution_count": 3,
   "metadata": {},
   "outputs": [
    {
     "name": "stdout",
     "output_type": "stream",
     "text": [
      "(35.58883342577187, 64.41116657422813, 4.845900368288426)\n"
     ]
    }
   ],
   "source": [
    "print(no_vig_odds(168,-208))\n"
   ]
  },
  {
   "cell_type": "code",
   "execution_count": 4,
   "metadata": {},
   "outputs": [],
   "source": [
    "def prob_outcome(differential, p):\n",
    "    #assuming that A vs B and the differential is score A - score B with team A having winning probability p.\n",
    "    if differential == 0:\n",
    "       return 0\n",
    "    elif differential == 1 or differential == -1:\n",
    "        return (binom.pmf(k = 12, n = 24, p = 1-p)) / 2\n",
    "    elif 0 < differential <= 13:\n",
    "        return binom.pmf(k = 13 - differential, n= 2*13 - differential - 1, p=1-p) * p\n",
    "    elif -13 <= differential < 0:\n",
    "        return binom.pmf(k  = 13 + differential, n = 2*13 + differential - 1, p=p) * (1-p)\n",
    "    else:\n",
    "        return 0\n",
    "#11-13"
   ]
  },
  {
   "cell_type": "code",
   "execution_count": 5,
   "metadata": {},
   "outputs": [],
   "source": [
    "class round_diff_distro(rv_discrete):\n",
    "    def set_p(self, p):\n",
    "        self.p = p\n",
    "\n",
    "    def _pmf(self, x):\n",
    "        x_arr = np.asarray(x)\n",
    "        flag = isinstance(x, np.ndarray) or isinstance(x, list)\n",
    "        pmf_output = np.array([prob_outcome(k, self.p) for k in x_arr])\n",
    "        return pmf_output if flag else pmf_output.item()\n",
    "    \n",
    "    def pmf_dict(self):\n",
    "        return {k: prob_outcome(k, self.p) for k in range(-13,14)}"
   ]
  },
  {
   "cell_type": "code",
   "execution_count": 6,
   "metadata": {},
   "outputs": [
    {
     "data": {
      "text/plain": [
       "0.0007934570312500008"
      ]
     },
     "execution_count": 6,
     "metadata": {},
     "output_type": "execute_result"
    }
   ],
   "source": [
    "dict = {k :prob_outcome(k, 0.5) for k in range(-13,14)}\n",
    "dict.get(-12,0)"
   ]
  },
  {
   "cell_type": "code",
   "execution_count": 7,
   "metadata": {},
   "outputs": [
    {
     "name": "stdout",
     "output_type": "stream",
     "text": [
      "[-13, -12, -11, -10, -9, -8, -7, -6, -5, -4, -3, -2, -1, 0, 1, 2, 3, 4, 5, 6, 7, 8, 9, 10, 11, 12, 13]\n"
     ]
    },
    {
     "data": {
      "text/plain": [
       "1.0"
      ]
     },
     "execution_count": 7,
     "metadata": {},
     "output_type": "execute_result"
    }
   ],
   "source": [
    "diff_dist = round_diff_distro(a = -13, b = 13, name=\"game\")\n",
    "diff_dist.set_p(0.6)\n",
    "outcomes = list(range(-13,14))\n",
    "print(outcomes)\n",
    "np.sum(diff_dist.pmf(outcomes))"
   ]
  },
  {
   "cell_type": "code",
   "execution_count": 8,
   "metadata": {},
   "outputs": [
    {
     "ename": "NameError",
     "evalue": "name 'dist' is not defined",
     "output_type": "error",
     "traceback": [
      "\u001b[0;31m---------------------------------------------------------------------------\u001b[0m",
      "\u001b[0;31mNameError\u001b[0m                                 Traceback (most recent call last)",
      "Cell \u001b[0;32mIn[8], line 1\u001b[0m\n\u001b[0;32m----> 1\u001b[0m dist\u001b[38;5;241m.\u001b[39mpmf_dict()\n",
      "\u001b[0;31mNameError\u001b[0m: name 'dist' is not defined"
     ]
    }
   ],
   "source": [
    "dist.pmf_dict()"
   ]
  },
  {
   "cell_type": "code",
   "execution_count": null,
   "metadata": {},
   "outputs": [
    {
     "name": "stdout",
     "output_type": "stream",
     "text": [
      "0.06006717681884772\n"
     ]
    }
   ],
   "source": [
    "print(prob_outcome(-5, 0.5))"
   ]
  },
  {
   "cell_type": "code",
   "execution_count": null,
   "metadata": {},
   "outputs": [],
   "source": [
    "def plot_round_diff_distro(p):\n",
    "    distro = round_diff_distro(a = -13, b = 13, name=\"game\")\n",
    "    distro.set_p(p)\n",
    "    plt.bar(distro.pmf_dict().keys(), distro.pmf_dict().values())\n",
    "    return distro.pmf_dict().values()\n",
    "\n"
   ]
  },
  {
   "cell_type": "code",
   "execution_count": null,
   "metadata": {},
   "outputs": [],
   "source": [
    "class total_round_distro(rv_discrete):\n",
    "    def set_p(self, p):\n",
    "        self.p = p\n",
    "\n",
    "    def _pmf(self, x):\n",
    "        #support from 13 to 25\n",
    "        x_arr = np.asarray(x)\n",
    "        pmf_output = np.array([prob_outcome(26 - tot, self.p) + prob_outcome(tot - 26, self.p) for tot in x_arr])\n",
    "        #print(pmf_output)\n",
    "        flag = isinstance(x, np.ndarray) or isinstance(x, list)\n",
    "        return pmf_output if flag else pmf_output.item()\n",
    "    \n"
   ]
  },
  {
   "cell_type": "code",
   "execution_count": null,
   "metadata": {},
   "outputs": [],
   "source": [
    "def plot_total_round_distro(p):\n",
    "    total_dist = total_round_distro(a = 13, b = 25, name=\"total\")\n",
    "    total_dist.set_p(p)\n",
    "    support = list(range(13,26))\n",
    "    plt.bar(support, total_dist.pmf(support))\n",
    "    return total_dist.pmf(support)"
   ]
  },
  {
   "cell_type": "code",
   "execution_count": null,
   "metadata": {},
   "outputs": [
    {
     "data": {
      "text/plain": [
       "1.0000000000000002"
      ]
     },
     "execution_count": 108,
     "metadata": {},
     "output_type": "execute_result"
    }
   ],
   "source": [
    "total_dist = total_round_distro(a = 13, b = 25, name=\"total\")\n",
    "total_dist.set_p(0.6)\n",
    "support = list(range(13,26))\n",
    "\n",
    "\n",
    "total_dist.pmf(support)\n",
    "s = np.sum(total_dist.pmf(support))\n",
    "s"
   ]
  },
  {
   "cell_type": "code",
   "execution_count": null,
   "metadata": {},
   "outputs": [
    {
     "data": {
      "text/plain": [
       "1.0000000000000002"
      ]
     },
     "execution_count": 109,
     "metadata": {},
     "output_type": "execute_result"
    }
   ],
   "source": [
    "np.sum(total_dist.pmf(support))"
   ]
  },
  {
   "cell_type": "code",
   "execution_count": null,
   "metadata": {},
   "outputs": [
    {
     "ename": "NameError",
     "evalue": "name 'dist' is not defined",
     "output_type": "error",
     "traceback": [
      "\u001b[0;31m---------------------------------------------------------------------------\u001b[0m",
      "\u001b[0;31mNameError\u001b[0m                                 Traceback (most recent call last)",
      "Cell \u001b[0;32mIn[110], line 1\u001b[0m\n\u001b[0;32m----> 1\u001b[0m dist\u001b[38;5;241m.\u001b[39mset_p(\u001b[38;5;241m0.503\u001b[39m)\n\u001b[1;32m      2\u001b[0m d \u001b[38;5;241m=\u001b[39m dist\u001b[38;5;241m.\u001b[39mpmf_dict()\n\u001b[1;32m      3\u001b[0m \u001b[38;5;28;01mfor\u001b[39;00m v \u001b[38;5;129;01min\u001b[39;00m \u001b[38;5;28mrange\u001b[39m(\u001b[38;5;241m13\u001b[39m,\u001b[38;5;241m26\u001b[39m):\n",
      "\u001b[0;31mNameError\u001b[0m: name 'dist' is not defined"
     ]
    }
   ],
   "source": [
    "dist.set_p(0.503)\n",
    "d = dist.pmf_dict()\n",
    "for v in range(13,26):\n",
    "    print(26-v, v-26, d[26 - v], d[v - 26])\n",
    "   "
   ]
  },
  {
   "cell_type": "code",
   "execution_count": 9,
   "metadata": {},
   "outputs": [
    {
     "ename": "NameError",
     "evalue": "name 'plot_round_diff_distro' is not defined",
     "output_type": "error",
     "traceback": [
      "\u001b[0;31m---------------------------------------------------------------------------\u001b[0m",
      "\u001b[0;31mNameError\u001b[0m                                 Traceback (most recent call last)",
      "Cell \u001b[0;32mIn[9], line 1\u001b[0m\n\u001b[0;32m----> 1\u001b[0m plot_round_diff_distro(\u001b[38;5;241m0.6\u001b[39m)\n",
      "\u001b[0;31mNameError\u001b[0m: name 'plot_round_diff_distro' is not defined"
     ]
    }
   ],
   "source": [
    "plot_round_diff_distro(0.6)"
   ]
  },
  {
   "cell_type": "code",
   "execution_count": 10,
   "metadata": {},
   "outputs": [
    {
     "ename": "NameError",
     "evalue": "name 'plot_total_round_distro' is not defined",
     "output_type": "error",
     "traceback": [
      "\u001b[0;31m---------------------------------------------------------------------------\u001b[0m",
      "\u001b[0;31mNameError\u001b[0m                                 Traceback (most recent call last)",
      "Cell \u001b[0;32mIn[10], line 1\u001b[0m\n\u001b[0;32m----> 1\u001b[0m plot_total_round_distro(\u001b[38;5;241m0.6\u001b[39m)\n",
      "\u001b[0;31mNameError\u001b[0m: name 'plot_total_round_distro' is not defined"
     ]
    }
   ],
   "source": [
    "plot_total_round_distro(0.6)"
   ]
  },
  {
   "cell_type": "code",
   "execution_count": 11,
   "metadata": {},
   "outputs": [
    {
     "ename": "NameError",
     "evalue": "name 'support' is not defined",
     "output_type": "error",
     "traceback": [
      "\u001b[0;31m---------------------------------------------------------------------------\u001b[0m",
      "\u001b[0;31mNameError\u001b[0m                                 Traceback (most recent call last)",
      "Cell \u001b[0;32mIn[11], line 1\u001b[0m\n\u001b[0;32m----> 1\u001b[0m plt\u001b[38;5;241m.\u001b[39mplot(support, total_dist\u001b[38;5;241m.\u001b[39mpmf(support))\n",
      "\u001b[0;31mNameError\u001b[0m: name 'support' is not defined"
     ]
    }
   ],
   "source": [
    "plt.plot(support, total_dist.pmf(support))"
   ]
  },
  {
   "cell_type": "code",
   "execution_count": 12,
   "metadata": {},
   "outputs": [
    {
     "data": {
      "text/plain": [
       "6"
      ]
     },
     "execution_count": 12,
     "metadata": {},
     "output_type": "execute_result"
    }
   ],
   "source": [
    "def f(total):\n",
    "    return (26 - total)\n",
    "\n",
    "f(20)"
   ]
  },
  {
   "cell_type": "code",
   "execution_count": 13,
   "metadata": {},
   "outputs": [
    {
     "ename": "NameError",
     "evalue": "name 'plot_distro' is not defined",
     "output_type": "error",
     "traceback": [
      "\u001b[0;31m---------------------------------------------------------------------------\u001b[0m",
      "\u001b[0;31mNameError\u001b[0m                                 Traceback (most recent call last)",
      "Cell \u001b[0;32mIn[13], line 1\u001b[0m\n\u001b[0;32m----> 1\u001b[0m plot_distro(\u001b[38;5;241m0.6\u001b[39m)\n",
      "\u001b[0;31mNameError\u001b[0m: name 'plot_distro' is not defined"
     ]
    }
   ],
   "source": [
    "plot_distro(0.6)"
   ]
  },
  {
   "cell_type": "code",
   "execution_count": 14,
   "metadata": {},
   "outputs": [
    {
     "ename": "NameError",
     "evalue": "name 'distro' is not defined",
     "output_type": "error",
     "traceback": [
      "\u001b[0;31m---------------------------------------------------------------------------\u001b[0m",
      "\u001b[0;31mNameError\u001b[0m                                 Traceback (most recent call last)",
      "Cell \u001b[0;32mIn[14], line 1\u001b[0m\n\u001b[0;32m----> 1\u001b[0m np\u001b[38;5;241m.\u001b[39msum(distro)\n",
      "\u001b[0;31mNameError\u001b[0m: name 'distro' is not defined"
     ]
    }
   ],
   "source": [
    "np.sum(distro)"
   ]
  },
  {
   "cell_type": "code",
   "execution_count": 15,
   "metadata": {},
   "outputs": [
    {
     "ename": "NameError",
     "evalue": "name 'distro' is not defined",
     "output_type": "error",
     "traceback": [
      "\u001b[0;31m---------------------------------------------------------------------------\u001b[0m",
      "\u001b[0;31mNameError\u001b[0m                                 Traceback (most recent call last)",
      "Cell \u001b[0;32mIn[15], line 1\u001b[0m\n\u001b[0;32m----> 1\u001b[0m sz \u001b[38;5;241m=\u001b[39m \u001b[38;5;28mlen\u001b[39m(distro)\n\u001b[1;32m      2\u001b[0m \u001b[38;5;28mprint\u001b[39m(distro[:\u001b[38;5;241m12\u001b[39m]\u001b[38;5;241m.\u001b[39msize)\n\u001b[1;32m      3\u001b[0m \u001b[38;5;28mprint\u001b[39m(distro[\u001b[38;5;241m15\u001b[39m:]\u001b[38;5;241m.\u001b[39msize)\n",
      "\u001b[0;31mNameError\u001b[0m: name 'distro' is not defined"
     ]
    }
   ],
   "source": [
    "sz = len(distro)\n",
    "print(distro[:12].size)\n",
    "print(distro[15:].size)"
   ]
  },
  {
   "cell_type": "code",
   "execution_count": 16,
   "metadata": {},
   "outputs": [
    {
     "ename": "NameError",
     "evalue": "name 'distro' is not defined",
     "output_type": "error",
     "traceback": [
      "\u001b[0;31m---------------------------------------------------------------------------\u001b[0m",
      "\u001b[0;31mNameError\u001b[0m                                 Traceback (most recent call last)",
      "Cell \u001b[0;32mIn[16], line 1\u001b[0m\n\u001b[0;32m----> 1\u001b[0m distro[\u001b[38;5;241m15\u001b[39m:]\n\u001b[1;32m      2\u001b[0m total \u001b[38;5;241m=\u001b[39m (distro[:\u001b[38;5;241m12\u001b[39m] \u001b[38;5;241m+\u001b[39m distro[\u001b[38;5;241m15\u001b[39m:][\u001b[38;5;241m-\u001b[39m\u001b[38;5;241m1\u001b[39m])\n\u001b[1;32m      3\u001b[0m \u001b[38;5;28mprint\u001b[39m(total)\n",
      "\u001b[0;31mNameError\u001b[0m: name 'distro' is not defined"
     ]
    }
   ],
   "source": [
    "distro[15:]\n",
    "total = (distro[:12] + distro[15:][-1])\n",
    "print(total)\n",
    "total = np.insert(total, total.size, distro[13])\n",
    "print(total.size)"
   ]
  },
  {
   "cell_type": "markdown",
   "metadata": {},
   "source": []
  },
  {
   "cell_type": "code",
   "execution_count": 17,
   "metadata": {},
   "outputs": [
    {
     "ename": "NameError",
     "evalue": "name 'total' is not defined",
     "output_type": "error",
     "traceback": [
      "\u001b[0;31m---------------------------------------------------------------------------\u001b[0m",
      "\u001b[0;31mNameError\u001b[0m                                 Traceback (most recent call last)",
      "Cell \u001b[0;32mIn[17], line 1\u001b[0m\n\u001b[0;32m----> 1\u001b[0m plt\u001b[38;5;241m.\u001b[39mplot(total)\n",
      "\u001b[0;31mNameError\u001b[0m: name 'total' is not defined"
     ]
    }
   ],
   "source": [
    "plt.plot(total)"
   ]
  },
  {
   "cell_type": "code",
   "execution_count": 18,
   "metadata": {},
   "outputs": [
    {
     "data": {
      "text/plain": [
       "[24, 23, 22, 21, 20, 19, 18, 17, 16, 15, 14, 13]"
      ]
     },
     "execution_count": 18,
     "metadata": {},
     "output_type": "execute_result"
    }
   ],
   "source": [
    "list(range(24, 12,-1))"
   ]
  },
  {
   "cell_type": "code",
   "execution_count": 19,
   "metadata": {},
   "outputs": [],
   "source": [
    "def prob_winning(p):\n",
    "    distro = np.array([prob_outcome(s, p) for s in range(-13,14)])\n",
    "    return np.sum(distro[14:])"
   ]
  },
  {
   "cell_type": "code",
   "execution_count": 20,
   "metadata": {},
   "outputs": [],
   "source": [
    "def prob_losing(p):\n",
    "    distro = np.array([prob_outcome(s, p) for s in range(-13,14)])\n",
    "    return np.sum(distro[:13])"
   ]
  },
  {
   "cell_type": "code",
   "execution_count": 21,
   "metadata": {},
   "outputs": [
    {
     "data": {
      "text/plain": [
       "1.0000000000000004"
      ]
     },
     "execution_count": 21,
     "metadata": {},
     "output_type": "execute_result"
    }
   ],
   "source": [
    "prob_winning(0.58614)+prob_losing(0.58614)"
   ]
  },
  {
   "cell_type": "code",
   "execution_count": null,
   "metadata": {},
   "outputs": [],
   "source": []
  },
  {
   "cell_type": "code",
   "execution_count": 22,
   "metadata": {},
   "outputs": [
    {
     "name": "stdout",
     "output_type": "stream",
     "text": [
      "The solution for p is approximately: 0.5861447126222543\n"
     ]
    }
   ],
   "source": [
    "def objective(p):\n",
    "    return prob_winning(p) - 0.8\n",
    "\n",
    "# Solving for p using the Brent method\n",
    "p_solution = brentq(objective, 0, 1)  # p is a probability, so it ranges from 0 to 1\n",
    "print(f\"The solution for p is approximately: {p_solution}\")"
   ]
  },
  {
   "cell_type": "code",
   "execution_count": 23,
   "metadata": {},
   "outputs": [],
   "source": [
    "def solve_p(q):\n",
    "    def objective(p):\n",
    "        return prob_winning(p) - q\n",
    "    p_solution = brentq(objective, 0, 1)\n",
    "    return p_solution\n"
   ]
  },
  {
   "cell_type": "code",
   "execution_count": 24,
   "metadata": {},
   "outputs": [
    {
     "data": {
      "text/plain": [
       "0.8000000000000002"
      ]
     },
     "execution_count": 24,
     "metadata": {},
     "output_type": "execute_result"
    }
   ],
   "source": [
    "prob_winning(p_solution)"
   ]
  },
  {
   "cell_type": "code",
   "execution_count": 25,
   "metadata": {},
   "outputs": [
    {
     "data": {
      "text/plain": [
       "0.5539233189114676"
      ]
     },
     "execution_count": 25,
     "metadata": {},
     "output_type": "execute_result"
    }
   ],
   "source": [
    "solve_p(0.7)"
   ]
  },
  {
   "cell_type": "code",
   "execution_count": 26,
   "metadata": {},
   "outputs": [],
   "source": [
    "def main(odds1, odds2):\n",
    "    r, s, vig = no_vig_odds(odds1, odds2)\n",
    "    q = max(r, s) * 0.01\n",
    "    p_sol = solve_p(q)\n",
    "    #plot_round_diff_distro(p_sol)\n",
    "    plot_total_round_distro(p_sol)\n",
    "    diff_dist.set_p(p_sol)\n",
    "    total_dist.set_p(p_sol)\n",
    "    return r,s,vig, p_sol, diff_dist.mean(), diff_dist.median(), total_dist.mean(), total_dist.median()"
   ]
  },
  {
   "cell_type": "code",
   "execution_count": 27,
   "metadata": {},
   "outputs": [
    {
     "ename": "NameError",
     "evalue": "name 'plot_total_round_distro' is not defined",
     "output_type": "error",
     "traceback": [
      "\u001b[0;31m---------------------------------------------------------------------------\u001b[0m",
      "\u001b[0;31mNameError\u001b[0m                                 Traceback (most recent call last)",
      "Cell \u001b[0;32mIn[27], line 1\u001b[0m\n\u001b[0;32m----> 1\u001b[0m main(\u001b[38;5;241m-\u001b[39m\u001b[38;5;241m197\u001b[39m, \u001b[38;5;241m160\u001b[39m)\n",
      "Cell \u001b[0;32mIn[26], line 6\u001b[0m, in \u001b[0;36mmain\u001b[0;34m(odds1, odds2)\u001b[0m\n\u001b[1;32m      4\u001b[0m p_sol \u001b[38;5;241m=\u001b[39m solve_p(q)\n\u001b[1;32m      5\u001b[0m \u001b[38;5;66;03m#plot_round_diff_distro(p_sol)\u001b[39;00m\n\u001b[0;32m----> 6\u001b[0m plot_total_round_distro(p_sol)\n\u001b[1;32m      7\u001b[0m diff_dist\u001b[38;5;241m.\u001b[39mset_p(p_sol)\n\u001b[1;32m      8\u001b[0m total_dist\u001b[38;5;241m.\u001b[39mset_p(p_sol)\n",
      "\u001b[0;31mNameError\u001b[0m: name 'plot_total_round_distro' is not defined"
     ]
    }
   ],
   "source": [
    "main(-197, 160)"
   ]
  },
  {
   "cell_type": "markdown",
   "metadata": {},
   "source": []
  },
  {
   "cell_type": "code",
   "execution_count": 28,
   "metadata": {},
   "outputs": [
    {
     "ename": "NameError",
     "evalue": "name 'plot_total_round_distro' is not defined",
     "output_type": "error",
     "traceback": [
      "\u001b[0;31m---------------------------------------------------------------------------\u001b[0m",
      "\u001b[0;31mNameError\u001b[0m                                 Traceback (most recent call last)",
      "Cell \u001b[0;32mIn[28], line 1\u001b[0m\n\u001b[0;32m----> 1\u001b[0m main(\u001b[38;5;241m103\u001b[39m, \u001b[38;5;241m-\u001b[39m\u001b[38;5;241m125\u001b[39m)\n",
      "Cell \u001b[0;32mIn[26], line 6\u001b[0m, in \u001b[0;36mmain\u001b[0;34m(odds1, odds2)\u001b[0m\n\u001b[1;32m      4\u001b[0m p_sol \u001b[38;5;241m=\u001b[39m solve_p(q)\n\u001b[1;32m      5\u001b[0m \u001b[38;5;66;03m#plot_round_diff_distro(p_sol)\u001b[39;00m\n\u001b[0;32m----> 6\u001b[0m plot_total_round_distro(p_sol)\n\u001b[1;32m      7\u001b[0m diff_dist\u001b[38;5;241m.\u001b[39mset_p(p_sol)\n\u001b[1;32m      8\u001b[0m total_dist\u001b[38;5;241m.\u001b[39mset_p(p_sol)\n",
      "\u001b[0;31mNameError\u001b[0m: name 'plot_total_round_distro' is not defined"
     ]
    }
   ],
   "source": [
    "main(103, -125)"
   ]
  },
  {
   "cell_type": "code",
   "execution_count": 29,
   "metadata": {},
   "outputs": [
    {
     "ename": "NameError",
     "evalue": "name 'a' is not defined",
     "output_type": "error",
     "traceback": [
      "\u001b[0;31m---------------------------------------------------------------------------\u001b[0m",
      "\u001b[0;31mNameError\u001b[0m                                 Traceback (most recent call last)",
      "Cell \u001b[0;32mIn[29], line 1\u001b[0m\n\u001b[0;32m----> 1\u001b[0m \u001b[38;5;28mprint\u001b[39m(a,b,c,p_test)\n",
      "\u001b[0;31mNameError\u001b[0m: name 'a' is not defined"
     ]
    }
   ],
   "source": [
    "print(a,b,c,p_test)"
   ]
  },
  {
   "cell_type": "code",
   "execution_count": 30,
   "metadata": {},
   "outputs": [
    {
     "ename": "NameError",
     "evalue": "name 'plot_round_diff_distro' is not defined",
     "output_type": "error",
     "traceback": [
      "\u001b[0;31m---------------------------------------------------------------------------\u001b[0m",
      "\u001b[0;31mNameError\u001b[0m                                 Traceback (most recent call last)",
      "Cell \u001b[0;32mIn[30], line 1\u001b[0m\n\u001b[0;32m----> 1\u001b[0m plot_round_diff_distro(p_test)\n",
      "\u001b[0;31mNameError\u001b[0m: name 'plot_round_diff_distro' is not defined"
     ]
    }
   ],
   "source": [
    "plot_round_diff_distro(p_test)"
   ]
  },
  {
   "cell_type": "code",
   "execution_count": 31,
   "metadata": {},
   "outputs": [
    {
     "ename": "NameError",
     "evalue": "name 'plot_total_round_distro' is not defined",
     "output_type": "error",
     "traceback": [
      "\u001b[0;31m---------------------------------------------------------------------------\u001b[0m",
      "\u001b[0;31mNameError\u001b[0m                                 Traceback (most recent call last)",
      "Cell \u001b[0;32mIn[31], line 1\u001b[0m\n\u001b[0;32m----> 1\u001b[0m plot_total_round_distro(p_test)\n",
      "\u001b[0;31mNameError\u001b[0m: name 'plot_total_round_distro' is not defined"
     ]
    }
   ],
   "source": [
    "plot_total_round_distro(p_test)"
   ]
  },
  {
   "cell_type": "code",
   "execution_count": 32,
   "metadata": {},
   "outputs": [
    {
     "ename": "NameError",
     "evalue": "name 'p_test' is not defined",
     "output_type": "error",
     "traceback": [
      "\u001b[0;31m---------------------------------------------------------------------------\u001b[0m",
      "\u001b[0;31mNameError\u001b[0m                                 Traceback (most recent call last)",
      "Cell \u001b[0;32mIn[32], line 1\u001b[0m\n\u001b[0;32m----> 1\u001b[0m diff_dist\u001b[38;5;241m.\u001b[39mset_p(p_test)\n\u001b[1;32m      2\u001b[0m diff_dist\u001b[38;5;241m.\u001b[39mmean()\n\u001b[1;32m      3\u001b[0m diff_dist\u001b[38;5;241m.\u001b[39mmedian()\n",
      "\u001b[0;31mNameError\u001b[0m: name 'p_test' is not defined"
     ]
    }
   ],
   "source": [
    "diff_dist.set_p(p_test)\n",
    "diff_dist.mean()\n",
    "diff_dist.median()"
   ]
  },
  {
   "cell_type": "code",
   "execution_count": 33,
   "metadata": {},
   "outputs": [
    {
     "ename": "NameError",
     "evalue": "name 'total_dist' is not defined",
     "output_type": "error",
     "traceback": [
      "\u001b[0;31m---------------------------------------------------------------------------\u001b[0m",
      "\u001b[0;31mNameError\u001b[0m                                 Traceback (most recent call last)",
      "Cell \u001b[0;32mIn[33], line 1\u001b[0m\n\u001b[0;32m----> 1\u001b[0m total_dist\u001b[38;5;241m.\u001b[39mset_p(p_test)\n\u001b[1;32m      2\u001b[0m total_dist\u001b[38;5;241m.\u001b[39mmean()\n",
      "\u001b[0;31mNameError\u001b[0m: name 'total_dist' is not defined"
     ]
    }
   ],
   "source": [
    "total_dist.set_p(p_test)\n",
    "total_dist.mean()"
   ]
  },
  {
   "cell_type": "code",
   "execution_count": 34,
   "metadata": {},
   "outputs": [
    {
     "ename": "NameError",
     "evalue": "name 'total_dist' is not defined",
     "output_type": "error",
     "traceback": [
      "\u001b[0;31m---------------------------------------------------------------------------\u001b[0m",
      "\u001b[0;31mNameError\u001b[0m                                 Traceback (most recent call last)",
      "Cell \u001b[0;32mIn[34], line 1\u001b[0m\n\u001b[0;32m----> 1\u001b[0m total_dist\u001b[38;5;241m.\u001b[39mmedian()\n",
      "\u001b[0;31mNameError\u001b[0m: name 'total_dist' is not defined"
     ]
    }
   ],
   "source": [
    "total_dist.median()"
   ]
  },
  {
   "cell_type": "code",
   "execution_count": 124,
   "metadata": {},
   "outputs": [],
   "source": [
    "import numpy as np\n",
    "from numba import jit\n",
    "\n",
    "@jit(nopython=True)\n",
    "def simulate_game_outcome(base_p: float, eps: float):\n",
    "    team_a = 0\n",
    "    team_b = 0\n",
    "    prev_round_winner = None\n",
    "    \n",
    "    while (team_a < 13 and team_b < 13 and team_a + team_b < 24):\n",
    "        uniform = np.random.uniform(0, 1)\n",
    "\n",
    "        if team_a + team_b == 12:\n",
    "            prev_round_winner = None\n",
    "\n",
    "        if prev_round_winner is None:\n",
    "            p = base_p\n",
    "        elif prev_round_winner == 'a':\n",
    "            p = base_p * (1 + eps)\n",
    "        elif prev_round_winner == 'b':\n",
    "            p = base_p - eps + base_p * eps\n",
    "\n",
    "        if uniform < p:\n",
    "            team_a += 1\n",
    "            prev_round_winner = 'a'\n",
    "        else:\n",
    "            team_b += 1\n",
    "            prev_round_winner = 'b'\n",
    "\n",
    "    return team_a - team_b\n",
    "            \n",
    "        \n",
    "        \n"
   ]
  },
  {
   "cell_type": "code",
   "execution_count": 125,
   "metadata": {},
   "outputs": [
    {
     "data": {
      "text/plain": [
       "4"
      ]
     },
     "execution_count": 125,
     "metadata": {},
     "output_type": "execute_result"
    }
   ],
   "source": [
    "simulate_game_outcome(0.5, 0)"
   ]
  },
  {
   "cell_type": "code",
   "execution_count": 132,
   "metadata": {},
   "outputs": [],
   "source": [
    "def bootstrap(base_p: float, eps: float, num_iters: int = 1_000_000):\n",
    "    res = []\n",
    "    for _ in range(num_iters):\n",
    "        res.append(simulate_game_outcome(base_p, eps))\n",
    "    plt.hist(res, bins=20)\n",
    "\n"
   ]
  },
  {
   "cell_type": "code",
   "execution_count": 133,
   "metadata": {},
   "outputs": [
    {
     "data": {
      "image/png": "[encoded data removed]",
      "text/plain": [
       "<Figure size 640x480 with 1 Axes>"
      ]
     },
     "metadata": {},
     "output_type": "display_data"
    }
   ],
   "source": [
    "bootstrap(0.55, 0.1)"
   ]
  },
  {
   "cell_type": "code",
   "execution_count": null,
   "metadata": {},
   "outputs": [],
   "source": []
  }
 ],
 "metadata": {
  "kernelspec": {
   "display_name": "base",
   "language": "python",
   "name": "python3"
  },
  "language_info": {
   "codemirror_mode": {
    "name": "ipython",
    "version": 3
   },
   "file_extension": ".py",
   "mimetype": "text/x-python",
   "name": "python",
   "nbconvert_exporter": "python",
   "pygments_lexer": "ipython3",
   "version": "3.11.8"
  }
 },
 "nbformat": 4,
 "nbformat_minor": 2
}
